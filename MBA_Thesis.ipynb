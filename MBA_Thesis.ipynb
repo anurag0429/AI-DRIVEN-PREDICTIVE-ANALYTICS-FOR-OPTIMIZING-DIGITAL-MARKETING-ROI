{
  "nbformat": 4,
  "nbformat_minor": 0,
  "metadata": {
    "colab": {
      "provenance": []
    },
    "kernelspec": {
      "name": "python3",
      "display_name": "Python 3"
    },
    "language_info": {
      "name": "python"
    }
  },
  "cells": [
    {
      "cell_type": "markdown",
      "source": [
        "✅ OBJECTIVE 1: Predict Ad Trends (Revenue Prediction)\n"
      ],
      "metadata": {
        "id": "VCt1wKUeSduN"
      }
    },
    {
      "cell_type": "code",
      "execution_count": 1,
      "metadata": {
        "colab": {
          "base_uri": "https://localhost:8080/"
        },
        "id": "gWOOq81OBqrQ",
        "outputId": "448d43b4-06a3-4fb6-fc98-6488885be8de"
      },
      "outputs": [
        {
          "output_type": "stream",
          "name": "stdout",
          "text": [
            "Requirement already satisfied: pandas in /usr/local/lib/python3.11/dist-packages (2.2.2)\n",
            "Requirement already satisfied: scikit-learn in /usr/local/lib/python3.11/dist-packages (1.6.1)\n",
            "Requirement already satisfied: tensorflow in /usr/local/lib/python3.11/dist-packages (2.18.0)\n",
            "Requirement already satisfied: keras in /usr/local/lib/python3.11/dist-packages (3.8.0)\n",
            "Requirement already satisfied: matplotlib in /usr/local/lib/python3.11/dist-packages (3.10.0)\n",
            "Requirement already satisfied: seaborn in /usr/local/lib/python3.11/dist-packages (0.13.2)\n",
            "Requirement already satisfied: numpy>=1.23.2 in /usr/local/lib/python3.11/dist-packages (from pandas) (2.0.2)\n",
            "Requirement already satisfied: python-dateutil>=2.8.2 in /usr/local/lib/python3.11/dist-packages (from pandas) (2.9.0.post0)\n",
            "Requirement already satisfied: pytz>=2020.1 in /usr/local/lib/python3.11/dist-packages (from pandas) (2025.2)\n",
            "Requirement already satisfied: tzdata>=2022.7 in /usr/local/lib/python3.11/dist-packages (from pandas) (2025.2)\n",
            "Requirement already satisfied: scipy>=1.6.0 in /usr/local/lib/python3.11/dist-packages (from scikit-learn) (1.15.3)\n",
            "Requirement already satisfied: joblib>=1.2.0 in /usr/local/lib/python3.11/dist-packages (from scikit-learn) (1.5.0)\n",
            "Requirement already satisfied: threadpoolctl>=3.1.0 in /usr/local/lib/python3.11/dist-packages (from scikit-learn) (3.6.0)\n",
            "Requirement already satisfied: absl-py>=1.0.0 in /usr/local/lib/python3.11/dist-packages (from tensorflow) (1.4.0)\n",
            "Requirement already satisfied: astunparse>=1.6.0 in /usr/local/lib/python3.11/dist-packages (from tensorflow) (1.6.3)\n",
            "Requirement already satisfied: flatbuffers>=24.3.25 in /usr/local/lib/python3.11/dist-packages (from tensorflow) (25.2.10)\n",
            "Requirement already satisfied: gast!=0.5.0,!=0.5.1,!=0.5.2,>=0.2.1 in /usr/local/lib/python3.11/dist-packages (from tensorflow) (0.6.0)\n",
            "Requirement already satisfied: google-pasta>=0.1.1 in /usr/local/lib/python3.11/dist-packages (from tensorflow) (0.2.0)\n",
            "Requirement already satisfied: libclang>=13.0.0 in /usr/local/lib/python3.11/dist-packages (from tensorflow) (18.1.1)\n",
            "Requirement already satisfied: opt-einsum>=2.3.2 in /usr/local/lib/python3.11/dist-packages (from tensorflow) (3.4.0)\n",
            "Requirement already satisfied: packaging in /usr/local/lib/python3.11/dist-packages (from tensorflow) (24.2)\n",
            "Requirement already satisfied: protobuf!=4.21.0,!=4.21.1,!=4.21.2,!=4.21.3,!=4.21.4,!=4.21.5,<6.0.0dev,>=3.20.3 in /usr/local/lib/python3.11/dist-packages (from tensorflow) (5.29.4)\n",
            "Requirement already satisfied: requests<3,>=2.21.0 in /usr/local/lib/python3.11/dist-packages (from tensorflow) (2.32.3)\n",
            "Requirement already satisfied: setuptools in /usr/local/lib/python3.11/dist-packages (from tensorflow) (75.2.0)\n",
            "Requirement already satisfied: six>=1.12.0 in /usr/local/lib/python3.11/dist-packages (from tensorflow) (1.17.0)\n",
            "Requirement already satisfied: termcolor>=1.1.0 in /usr/local/lib/python3.11/dist-packages (from tensorflow) (3.1.0)\n",
            "Requirement already satisfied: typing-extensions>=3.6.6 in /usr/local/lib/python3.11/dist-packages (from tensorflow) (4.13.2)\n",
            "Requirement already satisfied: wrapt>=1.11.0 in /usr/local/lib/python3.11/dist-packages (from tensorflow) (1.17.2)\n",
            "Requirement already satisfied: grpcio<2.0,>=1.24.3 in /usr/local/lib/python3.11/dist-packages (from tensorflow) (1.71.0)\n",
            "Requirement already satisfied: tensorboard<2.19,>=2.18 in /usr/local/lib/python3.11/dist-packages (from tensorflow) (2.18.0)\n",
            "Requirement already satisfied: h5py>=3.11.0 in /usr/local/lib/python3.11/dist-packages (from tensorflow) (3.13.0)\n",
            "Requirement already satisfied: ml-dtypes<0.5.0,>=0.4.0 in /usr/local/lib/python3.11/dist-packages (from tensorflow) (0.4.1)\n",
            "Requirement already satisfied: tensorflow-io-gcs-filesystem>=0.23.1 in /usr/local/lib/python3.11/dist-packages (from tensorflow) (0.37.1)\n",
            "Requirement already satisfied: rich in /usr/local/lib/python3.11/dist-packages (from keras) (13.9.4)\n",
            "Requirement already satisfied: namex in /usr/local/lib/python3.11/dist-packages (from keras) (0.0.9)\n",
            "Requirement already satisfied: optree in /usr/local/lib/python3.11/dist-packages (from keras) (0.15.0)\n",
            "Requirement already satisfied: contourpy>=1.0.1 in /usr/local/lib/python3.11/dist-packages (from matplotlib) (1.3.2)\n",
            "Requirement already satisfied: cycler>=0.10 in /usr/local/lib/python3.11/dist-packages (from matplotlib) (0.12.1)\n",
            "Requirement already satisfied: fonttools>=4.22.0 in /usr/local/lib/python3.11/dist-packages (from matplotlib) (4.58.0)\n",
            "Requirement already satisfied: kiwisolver>=1.3.1 in /usr/local/lib/python3.11/dist-packages (from matplotlib) (1.4.8)\n",
            "Requirement already satisfied: pillow>=8 in /usr/local/lib/python3.11/dist-packages (from matplotlib) (11.2.1)\n",
            "Requirement already satisfied: pyparsing>=2.3.1 in /usr/local/lib/python3.11/dist-packages (from matplotlib) (3.2.3)\n",
            "Requirement already satisfied: wheel<1.0,>=0.23.0 in /usr/local/lib/python3.11/dist-packages (from astunparse>=1.6.0->tensorflow) (0.45.1)\n",
            "Requirement already satisfied: charset-normalizer<4,>=2 in /usr/local/lib/python3.11/dist-packages (from requests<3,>=2.21.0->tensorflow) (3.4.2)\n",
            "Requirement already satisfied: idna<4,>=2.5 in /usr/local/lib/python3.11/dist-packages (from requests<3,>=2.21.0->tensorflow) (3.10)\n",
            "Requirement already satisfied: urllib3<3,>=1.21.1 in /usr/local/lib/python3.11/dist-packages (from requests<3,>=2.21.0->tensorflow) (2.4.0)\n",
            "Requirement already satisfied: certifi>=2017.4.17 in /usr/local/lib/python3.11/dist-packages (from requests<3,>=2.21.0->tensorflow) (2025.4.26)\n",
            "Requirement already satisfied: markdown>=2.6.8 in /usr/local/lib/python3.11/dist-packages (from tensorboard<2.19,>=2.18->tensorflow) (3.8)\n",
            "Requirement already satisfied: tensorboard-data-server<0.8.0,>=0.7.0 in /usr/local/lib/python3.11/dist-packages (from tensorboard<2.19,>=2.18->tensorflow) (0.7.2)\n",
            "Requirement already satisfied: werkzeug>=1.0.1 in /usr/local/lib/python3.11/dist-packages (from tensorboard<2.19,>=2.18->tensorflow) (3.1.3)\n",
            "Requirement already satisfied: markdown-it-py>=2.2.0 in /usr/local/lib/python3.11/dist-packages (from rich->keras) (3.0.0)\n",
            "Requirement already satisfied: pygments<3.0.0,>=2.13.0 in /usr/local/lib/python3.11/dist-packages (from rich->keras) (2.19.1)\n",
            "Requirement already satisfied: mdurl~=0.1 in /usr/local/lib/python3.11/dist-packages (from markdown-it-py>=2.2.0->rich->keras) (0.1.2)\n",
            "Requirement already satisfied: MarkupSafe>=2.1.1 in /usr/local/lib/python3.11/dist-packages (from werkzeug>=1.0.1->tensorboard<2.19,>=2.18->tensorflow) (3.0.2)\n"
          ]
        }
      ],
      "source": [
        "# Install required libraries\n",
        "!pip install pandas scikit-learn tensorflow keras matplotlib seaborn\n",
        "import pandas as pd\n",
        "import numpy as np\n",
        "import json\n",
        "import matplotlib.pyplot as plt\n",
        "import seaborn as sns\n",
        "from sklearn.model_selection import train_test_split\n",
        "from sklearn.linear_model import LinearRegression\n",
        "from sklearn.metrics import mean_squared_error, r2_score\n",
        "from keras.models import Sequential\n",
        "from keras.layers import Dense\n"
      ]
    },
    {
      "cell_type": "code",
      "source": [
        "# Load train.csv and flatten JSON columns\n",
        "def load_and_flatten(filepath):\n",
        "    df = pd.read_csv(filepath,\n",
        "                     converters={\n",
        "                         'device': json.loads,\n",
        "                         'geoNetwork': json.loads,\n",
        "                         'totals': json.loads,\n",
        "                         'trafficSource': json.loads\n",
        "                     },\n",
        "                     dtype={'fullVisitorId': 'str'})\n",
        "    return df\n",
        "\n",
        "df = load_and_flatten('/content/train.csv')\n",
        "print(\"Initial shape:\", df.shape)\n",
        "df.head()\n"
      ],
      "metadata": {
        "colab": {
          "base_uri": "https://localhost:8080/",
          "height": 504
        },
        "id": "sp7Jp6jLKFG4",
        "outputId": "20ddbf4c-4767-4578-b508-89f2ffc1410d"
      },
      "execution_count": 2,
      "outputs": [
        {
          "output_type": "stream",
          "name": "stdout",
          "text": [
            "Initial shape: (903653, 12)\n"
          ]
        },
        {
          "output_type": "execute_result",
          "data": {
            "text/plain": [
              "  channelGrouping      date  \\\n",
              "0  Organic Search  20160902   \n",
              "1  Organic Search  20160902   \n",
              "2  Organic Search  20160902   \n",
              "3  Organic Search  20160902   \n",
              "4  Organic Search  20160902   \n",
              "\n",
              "                                              device        fullVisitorId  \\\n",
              "0  {'browser': 'Chrome', 'browserVersion': 'not a...  1131660440785968503   \n",
              "1  {'browser': 'Firefox', 'browserVersion': 'not ...   377306020877927890   \n",
              "2  {'browser': 'Chrome', 'browserVersion': 'not a...  3895546263509774583   \n",
              "3  {'browser': 'UC Browser', 'browserVersion': 'n...  4763447161404445595   \n",
              "4  {'browser': 'Chrome', 'browserVersion': 'not a...    27294437909732085   \n",
              "\n",
              "                                          geoNetwork  \\\n",
              "0  {'continent': 'Asia', 'subContinent': 'Western...   \n",
              "1  {'continent': 'Oceania', 'subContinent': 'Aust...   \n",
              "2  {'continent': 'Europe', 'subContinent': 'South...   \n",
              "3  {'continent': 'Asia', 'subContinent': 'Southea...   \n",
              "4  {'continent': 'Europe', 'subContinent': 'North...   \n",
              "\n",
              "                        sessionId  socialEngagementType  \\\n",
              "0  1131660440785968503_1472830385  Not Socially Engaged   \n",
              "1   377306020877927890_1472880147  Not Socially Engaged   \n",
              "2  3895546263509774583_1472865386  Not Socially Engaged   \n",
              "3  4763447161404445595_1472881213  Not Socially Engaged   \n",
              "4    27294437909732085_1472822600  Not Socially Engaged   \n",
              "\n",
              "                                              totals  \\\n",
              "0  {'visits': '1', 'hits': '1', 'pageviews': '1',...   \n",
              "1  {'visits': '1', 'hits': '1', 'pageviews': '1',...   \n",
              "2  {'visits': '1', 'hits': '1', 'pageviews': '1',...   \n",
              "3  {'visits': '1', 'hits': '1', 'pageviews': '1',...   \n",
              "4  {'visits': '1', 'hits': '1', 'pageviews': '1',...   \n",
              "\n",
              "                                       trafficSource     visitId  visitNumber  \\\n",
              "0  {'campaign': '(not set)', 'source': 'google', ...  1472830385            1   \n",
              "1  {'campaign': '(not set)', 'source': 'google', ...  1472880147            1   \n",
              "2  {'campaign': '(not set)', 'source': 'google', ...  1472865386            1   \n",
              "3  {'campaign': '(not set)', 'source': 'google', ...  1472881213            1   \n",
              "4  {'campaign': '(not set)', 'source': 'google', ...  1472822600            2   \n",
              "\n",
              "   visitStartTime  \n",
              "0      1472830385  \n",
              "1      1472880147  \n",
              "2      1472865386  \n",
              "3      1472881213  \n",
              "4      1472822600  "
            ],
            "text/html": [
              "\n",
              "  <div id=\"df-57a3ec8d-4b26-4375-9879-5efc7f5a874b\" class=\"colab-df-container\">\n",
              "    <div>\n",
              "<style scoped>\n",
              "    .dataframe tbody tr th:only-of-type {\n",
              "        vertical-align: middle;\n",
              "    }\n",
              "\n",
              "    .dataframe tbody tr th {\n",
              "        vertical-align: top;\n",
              "    }\n",
              "\n",
              "    .dataframe thead th {\n",
              "        text-align: right;\n",
              "    }\n",
              "</style>\n",
              "<table border=\"1\" class=\"dataframe\">\n",
              "  <thead>\n",
              "    <tr style=\"text-align: right;\">\n",
              "      <th></th>\n",
              "      <th>channelGrouping</th>\n",
              "      <th>date</th>\n",
              "      <th>device</th>\n",
              "      <th>fullVisitorId</th>\n",
              "      <th>geoNetwork</th>\n",
              "      <th>sessionId</th>\n",
              "      <th>socialEngagementType</th>\n",
              "      <th>totals</th>\n",
              "      <th>trafficSource</th>\n",
              "      <th>visitId</th>\n",
              "      <th>visitNumber</th>\n",
              "      <th>visitStartTime</th>\n",
              "    </tr>\n",
              "  </thead>\n",
              "  <tbody>\n",
              "    <tr>\n",
              "      <th>0</th>\n",
              "      <td>Organic Search</td>\n",
              "      <td>20160902</td>\n",
              "      <td>{'browser': 'Chrome', 'browserVersion': 'not a...</td>\n",
              "      <td>1131660440785968503</td>\n",
              "      <td>{'continent': 'Asia', 'subContinent': 'Western...</td>\n",
              "      <td>1131660440785968503_1472830385</td>\n",
              "      <td>Not Socially Engaged</td>\n",
              "      <td>{'visits': '1', 'hits': '1', 'pageviews': '1',...</td>\n",
              "      <td>{'campaign': '(not set)', 'source': 'google', ...</td>\n",
              "      <td>1472830385</td>\n",
              "      <td>1</td>\n",
              "      <td>1472830385</td>\n",
              "    </tr>\n",
              "    <tr>\n",
              "      <th>1</th>\n",
              "      <td>Organic Search</td>\n",
              "      <td>20160902</td>\n",
              "      <td>{'browser': 'Firefox', 'browserVersion': 'not ...</td>\n",
              "      <td>377306020877927890</td>\n",
              "      <td>{'continent': 'Oceania', 'subContinent': 'Aust...</td>\n",
              "      <td>377306020877927890_1472880147</td>\n",
              "      <td>Not Socially Engaged</td>\n",
              "      <td>{'visits': '1', 'hits': '1', 'pageviews': '1',...</td>\n",
              "      <td>{'campaign': '(not set)', 'source': 'google', ...</td>\n",
              "      <td>1472880147</td>\n",
              "      <td>1</td>\n",
              "      <td>1472880147</td>\n",
              "    </tr>\n",
              "    <tr>\n",
              "      <th>2</th>\n",
              "      <td>Organic Search</td>\n",
              "      <td>20160902</td>\n",
              "      <td>{'browser': 'Chrome', 'browserVersion': 'not a...</td>\n",
              "      <td>3895546263509774583</td>\n",
              "      <td>{'continent': 'Europe', 'subContinent': 'South...</td>\n",
              "      <td>3895546263509774583_1472865386</td>\n",
              "      <td>Not Socially Engaged</td>\n",
              "      <td>{'visits': '1', 'hits': '1', 'pageviews': '1',...</td>\n",
              "      <td>{'campaign': '(not set)', 'source': 'google', ...</td>\n",
              "      <td>1472865386</td>\n",
              "      <td>1</td>\n",
              "      <td>1472865386</td>\n",
              "    </tr>\n",
              "    <tr>\n",
              "      <th>3</th>\n",
              "      <td>Organic Search</td>\n",
              "      <td>20160902</td>\n",
              "      <td>{'browser': 'UC Browser', 'browserVersion': 'n...</td>\n",
              "      <td>4763447161404445595</td>\n",
              "      <td>{'continent': 'Asia', 'subContinent': 'Southea...</td>\n",
              "      <td>4763447161404445595_1472881213</td>\n",
              "      <td>Not Socially Engaged</td>\n",
              "      <td>{'visits': '1', 'hits': '1', 'pageviews': '1',...</td>\n",
              "      <td>{'campaign': '(not set)', 'source': 'google', ...</td>\n",
              "      <td>1472881213</td>\n",
              "      <td>1</td>\n",
              "      <td>1472881213</td>\n",
              "    </tr>\n",
              "    <tr>\n",
              "      <th>4</th>\n",
              "      <td>Organic Search</td>\n",
              "      <td>20160902</td>\n",
              "      <td>{'browser': 'Chrome', 'browserVersion': 'not a...</td>\n",
              "      <td>27294437909732085</td>\n",
              "      <td>{'continent': 'Europe', 'subContinent': 'North...</td>\n",
              "      <td>27294437909732085_1472822600</td>\n",
              "      <td>Not Socially Engaged</td>\n",
              "      <td>{'visits': '1', 'hits': '1', 'pageviews': '1',...</td>\n",
              "      <td>{'campaign': '(not set)', 'source': 'google', ...</td>\n",
              "      <td>1472822600</td>\n",
              "      <td>2</td>\n",
              "      <td>1472822600</td>\n",
              "    </tr>\n",
              "  </tbody>\n",
              "</table>\n",
              "</div>\n",
              "    <div class=\"colab-df-buttons\">\n",
              "\n",
              "  <div class=\"colab-df-container\">\n",
              "    <button class=\"colab-df-convert\" onclick=\"convertToInteractive('df-57a3ec8d-4b26-4375-9879-5efc7f5a874b')\"\n",
              "            title=\"Convert this dataframe to an interactive table.\"\n",
              "            style=\"display:none;\">\n",
              "\n",
              "  <svg xmlns=\"http://www.w3.org/2000/svg\" height=\"24px\" viewBox=\"0 -960 960 960\">\n",
              "    <path d=\"M120-120v-720h720v720H120Zm60-500h600v-160H180v160Zm220 220h160v-160H400v160Zm0 220h160v-160H400v160ZM180-400h160v-160H180v160Zm440 0h160v-160H620v160ZM180-180h160v-160H180v160Zm440 0h160v-160H620v160Z\"/>\n",
              "  </svg>\n",
              "    </button>\n",
              "\n",
              "  <style>\n",
              "    .colab-df-container {\n",
              "      display:flex;\n",
              "      gap: 12px;\n",
              "    }\n",
              "\n",
              "    .colab-df-convert {\n",
              "      background-color: #E8F0FE;\n",
              "      border: none;\n",
              "      border-radius: 50%;\n",
              "      cursor: pointer;\n",
              "      display: none;\n",
              "      fill: #1967D2;\n",
              "      height: 32px;\n",
              "      padding: 0 0 0 0;\n",
              "      width: 32px;\n",
              "    }\n",
              "\n",
              "    .colab-df-convert:hover {\n",
              "      background-color: #E2EBFA;\n",
              "      box-shadow: 0px 1px 2px rgba(60, 64, 67, 0.3), 0px 1px 3px 1px rgba(60, 64, 67, 0.15);\n",
              "      fill: #174EA6;\n",
              "    }\n",
              "\n",
              "    .colab-df-buttons div {\n",
              "      margin-bottom: 4px;\n",
              "    }\n",
              "\n",
              "    [theme=dark] .colab-df-convert {\n",
              "      background-color: #3B4455;\n",
              "      fill: #D2E3FC;\n",
              "    }\n",
              "\n",
              "    [theme=dark] .colab-df-convert:hover {\n",
              "      background-color: #434B5C;\n",
              "      box-shadow: 0px 1px 3px 1px rgba(0, 0, 0, 0.15);\n",
              "      filter: drop-shadow(0px 1px 2px rgba(0, 0, 0, 0.3));\n",
              "      fill: #FFFFFF;\n",
              "    }\n",
              "  </style>\n",
              "\n",
              "    <script>\n",
              "      const buttonEl =\n",
              "        document.querySelector('#df-57a3ec8d-4b26-4375-9879-5efc7f5a874b button.colab-df-convert');\n",
              "      buttonEl.style.display =\n",
              "        google.colab.kernel.accessAllowed ? 'block' : 'none';\n",
              "\n",
              "      async function convertToInteractive(key) {\n",
              "        const element = document.querySelector('#df-57a3ec8d-4b26-4375-9879-5efc7f5a874b');\n",
              "        const dataTable =\n",
              "          await google.colab.kernel.invokeFunction('convertToInteractive',\n",
              "                                                    [key], {});\n",
              "        if (!dataTable) return;\n",
              "\n",
              "        const docLinkHtml = 'Like what you see? Visit the ' +\n",
              "          '<a target=\"_blank\" href=https://colab.research.google.com/notebooks/data_table.ipynb>data table notebook</a>'\n",
              "          + ' to learn more about interactive tables.';\n",
              "        element.innerHTML = '';\n",
              "        dataTable['output_type'] = 'display_data';\n",
              "        await google.colab.output.renderOutput(dataTable, element);\n",
              "        const docLink = document.createElement('div');\n",
              "        docLink.innerHTML = docLinkHtml;\n",
              "        element.appendChild(docLink);\n",
              "      }\n",
              "    </script>\n",
              "  </div>\n",
              "\n",
              "\n",
              "    <div id=\"df-573e4b24-cbce-4187-8ca9-16def91ec00f\">\n",
              "      <button class=\"colab-df-quickchart\" onclick=\"quickchart('df-573e4b24-cbce-4187-8ca9-16def91ec00f')\"\n",
              "                title=\"Suggest charts\"\n",
              "                style=\"display:none;\">\n",
              "\n",
              "<svg xmlns=\"http://www.w3.org/2000/svg\" height=\"24px\"viewBox=\"0 0 24 24\"\n",
              "     width=\"24px\">\n",
              "    <g>\n",
              "        <path d=\"M19 3H5c-1.1 0-2 .9-2 2v14c0 1.1.9 2 2 2h14c1.1 0 2-.9 2-2V5c0-1.1-.9-2-2-2zM9 17H7v-7h2v7zm4 0h-2V7h2v10zm4 0h-2v-4h2v4z\"/>\n",
              "    </g>\n",
              "</svg>\n",
              "      </button>\n",
              "\n",
              "<style>\n",
              "  .colab-df-quickchart {\n",
              "      --bg-color: #E8F0FE;\n",
              "      --fill-color: #1967D2;\n",
              "      --hover-bg-color: #E2EBFA;\n",
              "      --hover-fill-color: #174EA6;\n",
              "      --disabled-fill-color: #AAA;\n",
              "      --disabled-bg-color: #DDD;\n",
              "  }\n",
              "\n",
              "  [theme=dark] .colab-df-quickchart {\n",
              "      --bg-color: #3B4455;\n",
              "      --fill-color: #D2E3FC;\n",
              "      --hover-bg-color: #434B5C;\n",
              "      --hover-fill-color: #FFFFFF;\n",
              "      --disabled-bg-color: #3B4455;\n",
              "      --disabled-fill-color: #666;\n",
              "  }\n",
              "\n",
              "  .colab-df-quickchart {\n",
              "    background-color: var(--bg-color);\n",
              "    border: none;\n",
              "    border-radius: 50%;\n",
              "    cursor: pointer;\n",
              "    display: none;\n",
              "    fill: var(--fill-color);\n",
              "    height: 32px;\n",
              "    padding: 0;\n",
              "    width: 32px;\n",
              "  }\n",
              "\n",
              "  .colab-df-quickchart:hover {\n",
              "    background-color: var(--hover-bg-color);\n",
              "    box-shadow: 0 1px 2px rgba(60, 64, 67, 0.3), 0 1px 3px 1px rgba(60, 64, 67, 0.15);\n",
              "    fill: var(--button-hover-fill-color);\n",
              "  }\n",
              "\n",
              "  .colab-df-quickchart-complete:disabled,\n",
              "  .colab-df-quickchart-complete:disabled:hover {\n",
              "    background-color: var(--disabled-bg-color);\n",
              "    fill: var(--disabled-fill-color);\n",
              "    box-shadow: none;\n",
              "  }\n",
              "\n",
              "  .colab-df-spinner {\n",
              "    border: 2px solid var(--fill-color);\n",
              "    border-color: transparent;\n",
              "    border-bottom-color: var(--fill-color);\n",
              "    animation:\n",
              "      spin 1s steps(1) infinite;\n",
              "  }\n",
              "\n",
              "  @keyframes spin {\n",
              "    0% {\n",
              "      border-color: transparent;\n",
              "      border-bottom-color: var(--fill-color);\n",
              "      border-left-color: var(--fill-color);\n",
              "    }\n",
              "    20% {\n",
              "      border-color: transparent;\n",
              "      border-left-color: var(--fill-color);\n",
              "      border-top-color: var(--fill-color);\n",
              "    }\n",
              "    30% {\n",
              "      border-color: transparent;\n",
              "      border-left-color: var(--fill-color);\n",
              "      border-top-color: var(--fill-color);\n",
              "      border-right-color: var(--fill-color);\n",
              "    }\n",
              "    40% {\n",
              "      border-color: transparent;\n",
              "      border-right-color: var(--fill-color);\n",
              "      border-top-color: var(--fill-color);\n",
              "    }\n",
              "    60% {\n",
              "      border-color: transparent;\n",
              "      border-right-color: var(--fill-color);\n",
              "    }\n",
              "    80% {\n",
              "      border-color: transparent;\n",
              "      border-right-color: var(--fill-color);\n",
              "      border-bottom-color: var(--fill-color);\n",
              "    }\n",
              "    90% {\n",
              "      border-color: transparent;\n",
              "      border-bottom-color: var(--fill-color);\n",
              "    }\n",
              "  }\n",
              "</style>\n",
              "\n",
              "      <script>\n",
              "        async function quickchart(key) {\n",
              "          const quickchartButtonEl =\n",
              "            document.querySelector('#' + key + ' button');\n",
              "          quickchartButtonEl.disabled = true;  // To prevent multiple clicks.\n",
              "          quickchartButtonEl.classList.add('colab-df-spinner');\n",
              "          try {\n",
              "            const charts = await google.colab.kernel.invokeFunction(\n",
              "                'suggestCharts', [key], {});\n",
              "          } catch (error) {\n",
              "            console.error('Error during call to suggestCharts:', error);\n",
              "          }\n",
              "          quickchartButtonEl.classList.remove('colab-df-spinner');\n",
              "          quickchartButtonEl.classList.add('colab-df-quickchart-complete');\n",
              "        }\n",
              "        (() => {\n",
              "          let quickchartButtonEl =\n",
              "            document.querySelector('#df-573e4b24-cbce-4187-8ca9-16def91ec00f button');\n",
              "          quickchartButtonEl.style.display =\n",
              "            google.colab.kernel.accessAllowed ? 'block' : 'none';\n",
              "        })();\n",
              "      </script>\n",
              "    </div>\n",
              "\n",
              "    </div>\n",
              "  </div>\n"
            ],
            "application/vnd.google.colaboratory.intrinsic+json": {
              "type": "dataframe",
              "variable_name": "df"
            }
          },
          "metadata": {},
          "execution_count": 2
        }
      ]
    },
    {
      "cell_type": "code",
      "source": [
        "# Flatten nested columns using json_normalize\n",
        "device_df = pd.json_normalize(df['device'])\n",
        "geo_df = pd.json_normalize(df['geoNetwork'])\n",
        "totals_df = pd.json_normalize(df['totals'])\n",
        "traffic_df = pd.json_normalize(df['trafficSource'])\n",
        "\n",
        "# Concatenate flattened fields into main DataFrame\n",
        "df = pd.concat([df.drop(columns=['device', 'geoNetwork', 'totals', 'trafficSource']),\n",
        "                device_df, geo_df, totals_df, traffic_df], axis=1)\n",
        "\n",
        "# Convert revenue to numeric (fill missing with 0 and scale it)\n",
        "df['transactionRevenue'] = pd.to_numeric(df['transactionRevenue'], errors='coerce').fillna(0)\n",
        "df['transactionRevenue'] = df['transactionRevenue'] / 1e6  # Convert to millions for readability\n"
      ],
      "metadata": {
        "id": "Mp_g1475KZgU"
      },
      "execution_count": 3,
      "outputs": []
    },
    {
      "cell_type": "code",
      "source": [
        "# Encode selected categorical fields into numbers\n",
        "df['isMobile'] = df['isMobile'].astype(int)\n",
        "df['deviceCategory'] = df['deviceCategory'].astype('category').cat.codes\n",
        "df['country'] = df['country'].astype('category').cat.codes\n",
        "df['source'] = df['source'].astype('category').cat.codes\n",
        "df['visitNumber'] = df['visitNumber'].astype(int)\n",
        "\n",
        "# Define features and target\n",
        "features = df[['isMobile', 'deviceCategory', 'country', 'source', 'visitNumber']]\n",
        "target = df['transactionRevenue']\n",
        "\n",
        "# Check basic stats\n",
        "print(\"Revenue values summary:\")\n",
        "print(target.describe())\n"
      ],
      "metadata": {
        "colab": {
          "base_uri": "https://localhost:8080/"
        },
        "id": "nFUarCsIKwsT",
        "outputId": "188f3336-970e-496b-8c33-d1eaa430d04d"
      },
      "execution_count": 4,
      "outputs": [
        {
          "output_type": "stream",
          "name": "stdout",
          "text": [
            "Revenue values summary:\n",
            "count    903653.000000\n",
            "mean          1.704273\n",
            "std          52.778659\n",
            "min           0.000000\n",
            "25%           0.000000\n",
            "50%           0.000000\n",
            "75%           0.000000\n",
            "max       23129.500000\n",
            "Name: transactionRevenue, dtype: float64\n"
          ]
        }
      ]
    },
    {
      "cell_type": "code",
      "source": [
        "# Train/test split\n",
        "from sklearn.model_selection import train_test_split\n",
        "\n",
        "X_train, X_test, y_train, y_test = train_test_split(features, target, test_size=0.2, random_state=42)\n",
        "\n",
        "# Fit Linear Regression\n",
        "lr = LinearRegression()\n",
        "lr.fit(X_train, y_train)\n",
        "\n",
        "# Predict and evaluate\n",
        "preds_lr = lr.predict(X_test)\n",
        "\n",
        "# Model evaluation\n",
        "from sklearn.metrics import mean_squared_error, r2_score\n",
        "\n",
        "print(\"📉 Linear Regression MSE:\", mean_squared_error(y_test, preds_lr))\n",
        "print(\"📈 Linear Regression R^2 Score:\", r2_score(y_test, preds_lr))\n"
      ],
      "metadata": {
        "colab": {
          "base_uri": "https://localhost:8080/"
        },
        "id": "RoZ0O0tRLI0q",
        "outputId": "7529dea3-fea0-475b-86ae-ffbf0866fd5b"
      },
      "execution_count": 5,
      "outputs": [
        {
          "output_type": "stream",
          "name": "stdout",
          "text": [
            "📉 Linear Regression MSE: 2980.297018107896\n",
            "📈 Linear Regression R^2 Score: 0.0034582075389484324\n"
          ]
        }
      ]
    },
    {
      "cell_type": "code",
      "source": [
        "# Build and train a simple neural network model\n",
        "nn_model = Sequential()\n",
        "nn_model.add(Dense(64, input_dim=X_train.shape[1], activation='relu'))\n",
        "nn_model.add(Dense(32, activation='relu'))\n",
        "nn_model.add(Dense(1))  # Output layer for regression\n",
        "\n",
        "nn_model.compile(optimizer='adam', loss='mean_squared_error')\n",
        "nn_model.fit(X_train, y_train, validation_split=0.2, epochs=10, batch_size=32)\n"
      ],
      "metadata": {
        "colab": {
          "base_uri": "https://localhost:8080/"
        },
        "id": "Y23sjcsgLLLE",
        "outputId": "5879493c-7e1b-48cd-b16c-f00c6053ac5f"
      },
      "execution_count": 6,
      "outputs": [
        {
          "output_type": "stream",
          "name": "stderr",
          "text": [
            "/usr/local/lib/python3.11/dist-packages/keras/src/layers/core/dense.py:87: UserWarning: Do not pass an `input_shape`/`input_dim` argument to a layer. When using Sequential models, prefer using an `Input(shape)` object as the first layer in the model instead.\n",
            "  super().__init__(activity_regularizer=activity_regularizer, **kwargs)\n"
          ]
        },
        {
          "output_type": "stream",
          "name": "stdout",
          "text": [
            "Epoch 1/10\n",
            "\u001b[1m18074/18074\u001b[0m \u001b[32m━━━━━━━━━━━━━━━━━━━━\u001b[0m\u001b[37m\u001b[0m \u001b[1m53s\u001b[0m 3ms/step - loss: 1789.2224 - val_loss: 5648.8960\n",
            "Epoch 2/10\n",
            "\u001b[1m18074/18074\u001b[0m \u001b[32m━━━━━━━━━━━━━━━━━━━━\u001b[0m\u001b[37m\u001b[0m \u001b[1m79s\u001b[0m 3ms/step - loss: 2102.1147 - val_loss: 5654.9810\n",
            "Epoch 3/10\n",
            "\u001b[1m18074/18074\u001b[0m \u001b[32m━━━━━━━━━━━━━━━━━━━━\u001b[0m\u001b[37m\u001b[0m \u001b[1m77s\u001b[0m 2ms/step - loss: 1297.4663 - val_loss: 5694.0039\n",
            "Epoch 4/10\n",
            "\u001b[1m18074/18074\u001b[0m \u001b[32m━━━━━━━━━━━━━━━━━━━━\u001b[0m\u001b[37m\u001b[0m \u001b[1m84s\u001b[0m 2ms/step - loss: 2044.1462 - val_loss: 5635.9048\n",
            "Epoch 5/10\n",
            "\u001b[1m18074/18074\u001b[0m \u001b[32m━━━━━━━━━━━━━━━━━━━━\u001b[0m\u001b[37m\u001b[0m \u001b[1m48s\u001b[0m 3ms/step - loss: 1584.7253 - val_loss: 5651.2085\n",
            "Epoch 6/10\n",
            "\u001b[1m18074/18074\u001b[0m \u001b[32m━━━━━━━━━━━━━━━━━━━━\u001b[0m\u001b[37m\u001b[0m \u001b[1m78s\u001b[0m 2ms/step - loss: 2344.9216 - val_loss: 5647.0273\n",
            "Epoch 7/10\n",
            "\u001b[1m18074/18074\u001b[0m \u001b[32m━━━━━━━━━━━━━━━━━━━━\u001b[0m\u001b[37m\u001b[0m \u001b[1m86s\u001b[0m 3ms/step - loss: 1623.7732 - val_loss: 5599.4380\n",
            "Epoch 8/10\n",
            "\u001b[1m18074/18074\u001b[0m \u001b[32m━━━━━━━━━━━━━━━━━━━━\u001b[0m\u001b[37m\u001b[0m \u001b[1m43s\u001b[0m 2ms/step - loss: 1811.4897 - val_loss: 5640.5229\n",
            "Epoch 9/10\n",
            "\u001b[1m18074/18074\u001b[0m \u001b[32m━━━━━━━━━━━━━━━━━━━━\u001b[0m\u001b[37m\u001b[0m \u001b[1m46s\u001b[0m 3ms/step - loss: 1616.9418 - val_loss: 5634.0420\n",
            "Epoch 10/10\n",
            "\u001b[1m18074/18074\u001b[0m \u001b[32m━━━━━━━━━━━━━━━━━━━━\u001b[0m\u001b[37m\u001b[0m \u001b[1m81s\u001b[0m 3ms/step - loss: 2167.9866 - val_loss: 5629.5850\n"
          ]
        },
        {
          "output_type": "execute_result",
          "data": {
            "text/plain": [
              "<keras.src.callbacks.history.History at 0x7812193ae8d0>"
            ]
          },
          "metadata": {},
          "execution_count": 6
        }
      ]
    },
    {
      "cell_type": "code",
      "source": [
        "# Add predictions to DataFrame and save for Tableau\n",
        "df['predicted_revenue'] = lr.predict(features)\n",
        "df_export = df[['fullVisitorId', 'deviceCategory', 'country', 'source', 'visitNumber', 'transactionRevenue', 'predicted_revenue']]\n",
        "df_export.to_csv('/content/predicted_revenue.csv', index=False)\n",
        "print(\"✅ Exported to /content/predicted_revenue.csv\")\n"
      ],
      "metadata": {
        "colab": {
          "base_uri": "https://localhost:8080/"
        },
        "id": "J4NiKNQNOZNb",
        "outputId": "c1501781-be3c-4f5d-c106-15823a77eb1f"
      },
      "execution_count": 7,
      "outputs": [
        {
          "output_type": "stream",
          "name": "stdout",
          "text": [
            "✅ Exported to /content/predicted_revenue.csv\n"
          ]
        }
      ]
    },
    {
      "cell_type": "markdown",
      "source": [
        "🎯 Objective 2: Spot Customer Patterns Using Neural Networks"
      ],
      "metadata": {
        "id": "qHy99vdxSL_Y"
      }
    },
    {
      "cell_type": "code",
      "source": [
        "# Add new binary target: made_purchase (1 if revenue > 0)\n",
        "df['made_purchase'] = df['transactionRevenue'].apply(lambda x: 1 if x > 0 else 0)\n",
        "print(df['made_purchase'].value_counts())"
      ],
      "metadata": {
        "colab": {
          "base_uri": "https://localhost:8080/"
        },
        "id": "bd9p18p3SR64",
        "outputId": "cdb3906e-0c51-4be6-9907-27d3c37a29e2"
      },
      "execution_count": 8,
      "outputs": [
        {
          "output_type": "stream",
          "name": "stdout",
          "text": [
            "made_purchase\n",
            "0    892138\n",
            "1     11515\n",
            "Name: count, dtype: int64\n"
          ]
        }
      ]
    },
    {
      "cell_type": "code",
      "source": [
        "# Define features and binary target\n",
        "X = df[['isMobile', 'deviceCategory', 'country', 'source', 'visitNumber']]\n",
        "y = df['made_purchase']\n"
      ],
      "metadata": {
        "id": "yQ4FKwF3Svf6"
      },
      "execution_count": 9,
      "outputs": []
    },
    {
      "cell_type": "code",
      "source": [
        "from sklearn.model_selection import train_test_split\n",
        "\n",
        "X_train, X_test, y_train, y_test = train_test_split(X, y, test_size=0.2, random_state=42, stratify=y)\n"
      ],
      "metadata": {
        "id": "AlnLWsopTOJ0"
      },
      "execution_count": 11,
      "outputs": []
    },
    {
      "cell_type": "code",
      "source": [
        "from keras.models import Sequential\n",
        "from keras.layers import Dense\n",
        "\n",
        "# Build binary classifier model\n",
        "clf = Sequential()\n",
        "clf.add(Dense(64, input_shape=(X_train.shape[1],), activation='relu'))\n",
        "clf.add(Dense(32, activation='relu'))\n",
        "clf.add(Dense(1, activation='sigmoid'))  # sigmoid for binary classification\n",
        "\n",
        "# Compile and train\n",
        "clf.compile(optimizer='adam', loss='binary_crossentropy', metrics=['accuracy'])\n",
        "clf.fit(X_train, y_train, validation_split=0.2, epochs=10, batch_size=32)\n"
      ],
      "metadata": {
        "colab": {
          "base_uri": "https://localhost:8080/"
        },
        "id": "A16RiUKYTXWr",
        "outputId": "a542a8d5-6151-4c92-dce6-7c9b6bd2e3f9"
      },
      "execution_count": 12,
      "outputs": [
        {
          "output_type": "stream",
          "name": "stderr",
          "text": [
            "/usr/local/lib/python3.11/dist-packages/keras/src/layers/core/dense.py:87: UserWarning: Do not pass an `input_shape`/`input_dim` argument to a layer. When using Sequential models, prefer using an `Input(shape)` object as the first layer in the model instead.\n",
            "  super().__init__(activity_regularizer=activity_regularizer, **kwargs)\n"
          ]
        },
        {
          "output_type": "stream",
          "name": "stdout",
          "text": [
            "Epoch 1/10\n",
            "\u001b[1m18074/18074\u001b[0m \u001b[32m━━━━━━━━━━━━━━━━━━━━\u001b[0m\u001b[37m\u001b[0m \u001b[1m56s\u001b[0m 3ms/step - accuracy: 0.9863 - loss: 0.0867 - val_accuracy: 0.9872 - val_loss: 0.0601\n",
            "Epoch 2/10\n",
            "\u001b[1m18074/18074\u001b[0m \u001b[32m━━━━━━━━━━━━━━━━━━━━\u001b[0m\u001b[37m\u001b[0m \u001b[1m52s\u001b[0m 3ms/step - accuracy: 0.9873 - loss: 0.0593 - val_accuracy: 0.9872 - val_loss: 0.0587\n",
            "Epoch 3/10\n",
            "\u001b[1m18074/18074\u001b[0m \u001b[32m━━━━━━━━━━━━━━━━━━━━\u001b[0m\u001b[37m\u001b[0m \u001b[1m79s\u001b[0m 3ms/step - accuracy: 0.9873 - loss: 0.0582 - val_accuracy: 0.9872 - val_loss: 0.0562\n",
            "Epoch 4/10\n",
            "\u001b[1m18074/18074\u001b[0m \u001b[32m━━━━━━━━━━━━━━━━━━━━\u001b[0m\u001b[37m\u001b[0m \u001b[1m51s\u001b[0m 3ms/step - accuracy: 0.9872 - loss: 0.0576 - val_accuracy: 0.9872 - val_loss: 0.0581\n",
            "Epoch 5/10\n",
            "\u001b[1m18074/18074\u001b[0m \u001b[32m━━━━━━━━━━━━━━━━━━━━\u001b[0m\u001b[37m\u001b[0m \u001b[1m48s\u001b[0m 3ms/step - accuracy: 0.9871 - loss: 0.0574 - val_accuracy: 0.9872 - val_loss: 0.0570\n",
            "Epoch 6/10\n",
            "\u001b[1m18074/18074\u001b[0m \u001b[32m━━━━━━━━━━━━━━━━━━━━\u001b[0m\u001b[37m\u001b[0m \u001b[1m51s\u001b[0m 3ms/step - accuracy: 0.9871 - loss: 0.0575 - val_accuracy: 0.9872 - val_loss: 0.0559\n",
            "Epoch 7/10\n",
            "\u001b[1m18074/18074\u001b[0m \u001b[32m━━━━━━━━━━━━━━━━━━━━\u001b[0m\u001b[37m\u001b[0m \u001b[1m80s\u001b[0m 3ms/step - accuracy: 0.9873 - loss: 0.0566 - val_accuracy: 0.9872 - val_loss: 0.0560\n",
            "Epoch 8/10\n",
            "\u001b[1m18074/18074\u001b[0m \u001b[32m━━━━━━━━━━━━━━━━━━━━\u001b[0m\u001b[37m\u001b[0m \u001b[1m84s\u001b[0m 3ms/step - accuracy: 0.9872 - loss: 0.0572 - val_accuracy: 0.9872 - val_loss: 0.0563\n",
            "Epoch 9/10\n",
            "\u001b[1m18074/18074\u001b[0m \u001b[32m━━━━━━━━━━━━━━━━━━━━\u001b[0m\u001b[37m\u001b[0m \u001b[1m48s\u001b[0m 3ms/step - accuracy: 0.9869 - loss: 0.0581 - val_accuracy: 0.9872 - val_loss: 0.0566\n",
            "Epoch 10/10\n",
            "\u001b[1m18074/18074\u001b[0m \u001b[32m━━━━━━━━━━━━━━━━━━━━\u001b[0m\u001b[37m\u001b[0m \u001b[1m52s\u001b[0m 3ms/step - accuracy: 0.9874 - loss: 0.0564 - val_accuracy: 0.9872 - val_loss: 0.0564\n"
          ]
        },
        {
          "output_type": "execute_result",
          "data": {
            "text/plain": [
              "<keras.src.callbacks.history.History at 0x781220c70e10>"
            ]
          },
          "metadata": {},
          "execution_count": 12
        }
      ]
    },
    {
      "cell_type": "code",
      "source": [
        "# Evaluate on test data\n",
        "loss, accuracy = clf.evaluate(X_test, y_test)\n",
        "print(\"✅ Test Accuracy:\", accuracy)\n"
      ],
      "metadata": {
        "colab": {
          "base_uri": "https://localhost:8080/"
        },
        "id": "RBwrZp6HV9sU",
        "outputId": "984c3496-845d-4799-fb2d-a36eb7080574"
      },
      "execution_count": 13,
      "outputs": [
        {
          "output_type": "stream",
          "name": "stdout",
          "text": [
            "\u001b[1m5648/5648\u001b[0m \u001b[32m━━━━━━━━━━━━━━━━━━━━\u001b[0m\u001b[37m\u001b[0m \u001b[1m12s\u001b[0m 2ms/step - accuracy: 0.9873 - loss: 0.0568\n",
            "✅ Test Accuracy: 0.9872573018074036\n"
          ]
        }
      ]
    },
    {
      "cell_type": "code",
      "source": [
        "# Add prediction probabilities and binary output\n",
        "df['purchase_prob'] = clf.predict(X)\n",
        "df['purchase_pred'] = (df['purchase_prob'] > 0.5).astype(int)\n",
        "\n",
        "# Export for Tableau if needed\n",
        "df[['fullVisitorId', 'isMobile', 'deviceCategory', 'country', 'source', 'visitNumber', 'made_purchase', 'purchase_prob', 'purchase_pred']].to_csv('/content/purchase_predictions.csv', index=False)\n",
        "print(\"📤 Exported to /content/purchase_predictions.csv\")\n"
      ],
      "metadata": {
        "colab": {
          "base_uri": "https://localhost:8080/"
        },
        "id": "Xrt8p78aWKuZ",
        "outputId": "c6ecf271-903a-45f1-9758-b21079427361"
      },
      "execution_count": 14,
      "outputs": [
        {
          "output_type": "stream",
          "name": "stdout",
          "text": [
            "\u001b[1m28240/28240\u001b[0m \u001b[32m━━━━━━━━━━━━━━━━━━━━\u001b[0m\u001b[37m\u001b[0m \u001b[1m40s\u001b[0m 1ms/step\n",
            "📤 Exported to /content/purchase_predictions.csv\n"
          ]
        }
      ]
    },
    {
      "cell_type": "markdown",
      "source": [
        "Objective 3: Audience Segmentation Using K-Means Clustering\n"
      ],
      "metadata": {
        "id": "zt9SnnXBfPmC"
      }
    },
    {
      "cell_type": "code",
      "source": [
        "# We’ll reuse the same df DataFrame (from earlier steps)\n",
        "\n",
        "# Select clustering features (feel free to experiment with more)\n",
        "cluster_df = df[['isMobile', 'deviceCategory', 'country', 'source', 'visitNumber', 'transactionRevenue']].copy()\n",
        "\n",
        "# Normalize the data (important for K-Means)\n",
        "from sklearn.preprocessing import StandardScaler\n",
        "\n",
        "scaler = StandardScaler()\n",
        "cluster_scaled = scaler.fit_transform(cluster_df)\n",
        "\n",
        "print(\"✅ Data normalized and ready for clustering\")"
      ],
      "metadata": {
        "colab": {
          "base_uri": "https://localhost:8080/"
        },
        "id": "VvDWZIUjfRmd",
        "outputId": "e9da6285-9e60-432f-b552-9ffb4600b0c1"
      },
      "execution_count": 15,
      "outputs": [
        {
          "output_type": "stream",
          "name": "stdout",
          "text": [
            "✅ Data normalized and ready for clustering\n"
          ]
        }
      ]
    },
    {
      "cell_type": "code",
      "source": [
        "from sklearn.cluster import KMeans\n",
        "import matplotlib.pyplot as plt\n",
        "\n",
        "inertia = []\n",
        "K_range = range(2, 10)\n",
        "\n",
        "for k in K_range:\n",
        "    km = KMeans(n_clusters=k, random_state=42)\n",
        "    km.fit(cluster_scaled)\n",
        "    inertia.append(km.inertia_)\n",
        "\n",
        "# Plot Elbow Curve\n",
        "plt.figure(figsize=(8, 4))\n",
        "plt.plot(K_range, inertia, marker='o')\n",
        "plt.title('Elbow Method - Optimal k')\n",
        "plt.xlabel('Number of clusters')\n",
        "plt.ylabel('Inertia')\n",
        "plt.grid(True)\n",
        "plt.show()\n"
      ],
      "metadata": {
        "colab": {
          "base_uri": "https://localhost:8080/",
          "height": 410
        },
        "id": "jhwPKHO-fWGX",
        "outputId": "bf474dc7-c2b0-401c-e4b2-64e47889f2f3"
      },
      "execution_count": 16,
      "outputs": [
        {
          "output_type": "display_data",
          "data": {
            "text/plain": [
              "<Figure size 800x400 with 1 Axes>"
            ],
            "image/png": "[encoded data removed]"
          },
          "metadata": {}
        }
      ]
    },
    {
      "cell_type": "code",
      "source": [
        "# Let’s say you pick k=4 based on the elbow plot\n",
        "kmeans = KMeans(n_clusters=4, random_state=42)\n",
        "df['cluster'] = kmeans.fit_predict(cluster_scaled)\n",
        "\n",
        "# See distribution of segments\n",
        "print(df['cluster'].value_counts())\n"
      ],
      "metadata": {
        "colab": {
          "base_uri": "https://localhost:8080/"
        },
        "id": "9tUhDCN3fc7q",
        "outputId": "db0b7b1e-7f9d-43a1-8537-38820b49f85f"
      },
      "execution_count": 17,
      "outputs": [
        {
          "output_type": "stream",
          "name": "stdout",
          "text": [
            "cluster\n",
            "0    316766\n",
            "1    239092\n",
            "3    233000\n",
            "2    114795\n",
            "Name: count, dtype: int64\n"
          ]
        }
      ]
    },
    {
      "cell_type": "code",
      "source": [
        "# Export key fields with cluster labels\n",
        "df_export_clustered = df[['fullVisitorId', 'isMobile', 'deviceCategory', 'country', 'source', 'visitNumber', 'transactionRevenue', 'cluster']]\n",
        "df_export_clustered.to_csv('/content/segmented_users.csv', index=False)\n",
        "print(\"📤 Exported segmented data to /content/segmented_users.csv\")\n"
      ],
      "metadata": {
        "colab": {
          "base_uri": "https://localhost:8080/"
        },
        "id": "z1j01RYKfqWY",
        "outputId": "f102e914-fb2a-428c-b2be-3e6d2f45f34c"
      },
      "execution_count": 18,
      "outputs": [
        {
          "output_type": "stream",
          "name": "stdout",
          "text": [
            "📤 Exported segmented data to /content/segmented_users.csv\n"
          ]
        }
      ]
    }
  ]
}
